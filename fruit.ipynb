{
 "cells": [
  {
   "cell_type": "code",
   "execution_count": 3,
   "metadata": {},
   "outputs": [],
   "source": [
    "from keras import layers, models, optimizers\n",
    "from keras.preprocessing.image import ImageDataGenerator\n",
    "from keras.utils import to_categorical"
   ]
  },
  {
   "cell_type": "code",
   "execution_count": 4,
   "metadata": {},
   "outputs": [],
   "source": [
    "model = models.Sequential()\n",
    "model.add(layers.Conv2D(32, (3, 3), activation='relu', input_shape=(150, 150, 3)))\n",
    "model.add(layers.MaxPooling2D(2, 2))\n",
    "model.add(layers.Conv2D(64, (3, 3), activation='relu'))\n",
    "model.add(layers.MaxPooling2D(2, 2))\n",
    "model.add(layers.Conv2D(64, (3, 3), activation='relu'))\n",
    "model.add(layers.MaxPooling2D(2, 2))\n",
    "model.add(layers.Conv2D(64, (3, 3), activation='relu'))\n",
    "model.add(layers.MaxPooling2D(2, 2))\n",
    "model.add(layers.Flatten())\n",
    "model.add(layers.Dense(512, activation='relu'))\n",
    "model.add(layers.Dense(10, activation='softmax'))"
   ]
  },
  {
   "cell_type": "code",
   "execution_count": 5,
   "metadata": {},
   "outputs": [
    {
     "name": "stderr",
     "output_type": "stream",
     "text": [
      "WARNING:absl:`lr` is deprecated in Keras optimizer, please use `learning_rate` or use the legacy optimizer, e.g.,tf.keras.optimizers.legacy.RMSprop.\n"
     ]
    }
   ],
   "source": [
    "model.compile(loss='categorical_crossentropy',\n",
    "              optimizer=optimizers.RMSprop(lr=1e-4),\n",
    "              metrics=['acc'])"
   ]
  },
  {
   "cell_type": "code",
   "execution_count": 6,
   "metadata": {},
   "outputs": [],
   "source": [
    "train_dir = 'C:\\\\Users\\\\Talha Fareedi\\\\Downloads\\\\Compressed\\\\fruits/train'\n",
    "val_dir = 'C:\\\\Users\\\\Talha Fareedi\\\\Downloads\\\\Compressed\\\\fruits/test'"
   ]
  },
  {
   "cell_type": "code",
   "execution_count": 7,
   "metadata": {},
   "outputs": [],
   "source": [
    "train_datagen = ImageDataGenerator(rescale=1./255)\n",
    "test_datagen = ImageDataGenerator(rescale=1./255)"
   ]
  },
  {
   "cell_type": "code",
   "execution_count": 8,
   "metadata": {},
   "outputs": [
    {
     "name": "stdout",
     "output_type": "stream",
     "text": [
      "Found 2301 images belonging to 10 classes.\n",
      "Found 1025 images belonging to 10 classes.\n"
     ]
    }
   ],
   "source": [
    "\n",
    "train_generator = train_datagen.flow_from_directory(\n",
    "    train_dir,\n",
    "    target_size=(150, 150),\n",
    "    batch_size=20,\n",
    "    class_mode='categorical'  # Class mode for multi-class\n",
    ")\n",
    "\n",
    "validation_generator = test_datagen.flow_from_directory(\n",
    "    val_dir,\n",
    "    target_size=(150, 150),\n",
    "    batch_size=20,\n",
    "    class_mode='categorical'  # Class mode for multi-class\n",
    ")"
   ]
  },
  {
   "cell_type": "code",
   "execution_count": 9,
   "metadata": {},
   "outputs": [],
   "source": [
    "train_labels = train_generator.classes\n",
    "validation_labels = validation_generator.classes"
   ]
  },
  {
   "cell_type": "code",
   "execution_count": 10,
   "metadata": {},
   "outputs": [],
   "source": [
    "train_labels_one_hot = to_categorical(train_labels, num_classes=10)\n",
    "validation_labels_one_hot = to_categorical(validation_labels, num_classes=10)\n",
    "\n"
   ]
  },
  {
   "cell_type": "code",
   "execution_count": 11,
   "metadata": {},
   "outputs": [
    {
     "name": "stderr",
     "output_type": "stream",
     "text": [
      "C:\\Users\\Talha Fareedi\\AppData\\Local\\Temp\\ipykernel_11244\\2531459856.py:1: UserWarning: `Model.fit_generator` is deprecated and will be removed in a future version. Please use `Model.fit`, which supports generators.\n",
      "  history = model.fit_generator(\n"
     ]
    },
    {
     "name": "stdout",
     "output_type": "stream",
     "text": [
      "Epoch 1/35\n",
      "20/20 [==============================] - 31s 1s/step - loss: 2.3342 - acc: 0.1075 - val_loss: 2.2986 - val_acc: 0.1560\n",
      "Epoch 2/35\n",
      "20/20 [==============================] - 30s 2s/step - loss: 2.2884 - acc: 0.1825 - val_loss: 2.0123 - val_acc: 0.1850\n",
      "Epoch 3/35\n",
      "20/20 [==============================] - 30s 2s/step - loss: 1.9580 - acc: 0.2400 - val_loss: 1.9418 - val_acc: 0.2680\n",
      "Epoch 4/35\n",
      "20/20 [==============================] - 36s 2s/step - loss: 1.8389 - acc: 0.2925 - val_loss: 1.8529 - val_acc: 0.2490\n",
      "Epoch 5/35\n",
      "20/20 [==============================] - 34s 2s/step - loss: 1.7814 - acc: 0.3150 - val_loss: 1.9143 - val_acc: 0.2940\n",
      "Epoch 6/35\n",
      "20/20 [==============================] - 32s 2s/step - loss: 1.6933 - acc: 0.3525 - val_loss: 1.9387 - val_acc: 0.2170\n",
      "Epoch 7/35\n",
      "20/20 [==============================] - 31s 2s/step - loss: 1.5917 - acc: 0.3780 - val_loss: 2.0787 - val_acc: 0.3110\n",
      "Epoch 8/35\n",
      "20/20 [==============================] - 31s 2s/step - loss: 1.6077 - acc: 0.3800 - val_loss: 1.7311 - val_acc: 0.3960\n",
      "Epoch 9/35\n",
      "20/20 [==============================] - 31s 2s/step - loss: 1.5245 - acc: 0.4075 - val_loss: 1.8026 - val_acc: 0.2920\n",
      "Epoch 10/35\n",
      "20/20 [==============================] - 32s 2s/step - loss: 1.5279 - acc: 0.4225 - val_loss: 1.7483 - val_acc: 0.2640\n",
      "Epoch 11/35\n",
      "20/20 [==============================] - 32s 2s/step - loss: 1.4787 - acc: 0.4075 - val_loss: 1.7026 - val_acc: 0.3320\n",
      "Epoch 12/35\n",
      "20/20 [==============================] - 31s 2s/step - loss: 1.4472 - acc: 0.4400 - val_loss: 1.6733 - val_acc: 0.3720\n",
      "Epoch 13/35\n",
      "20/20 [==============================] - 30s 2s/step - loss: 1.3497 - acc: 0.4934 - val_loss: 1.8552 - val_acc: 0.3450\n",
      "Epoch 14/35\n",
      "20/20 [==============================] - 32s 2s/step - loss: 1.3268 - acc: 0.4775 - val_loss: 1.9783 - val_acc: 0.2820\n",
      "Epoch 15/35\n",
      "20/20 [==============================] - 30s 2s/step - loss: 1.3817 - acc: 0.4625 - val_loss: 1.5930 - val_acc: 0.4130\n",
      "Epoch 16/35\n",
      "20/20 [==============================] - 31s 2s/step - loss: 1.4085 - acc: 0.4825 - val_loss: 1.6834 - val_acc: 0.3840\n",
      "Epoch 17/35\n",
      "20/20 [==============================] - 30s 2s/step - loss: 1.3110 - acc: 0.5050 - val_loss: 1.6655 - val_acc: 0.4060\n",
      "Epoch 18/35\n",
      "20/20 [==============================] - 30s 2s/step - loss: 1.2109 - acc: 0.5425 - val_loss: 1.7110 - val_acc: 0.3920\n",
      "Epoch 19/35\n",
      "20/20 [==============================] - 30s 2s/step - loss: 1.2710 - acc: 0.5375 - val_loss: 1.9341 - val_acc: 0.3920\n",
      "Epoch 20/35\n",
      "20/20 [==============================] - 30s 2s/step - loss: 1.2065 - acc: 0.5500 - val_loss: 1.6560 - val_acc: 0.4070\n",
      "Epoch 21/35\n",
      "20/20 [==============================] - 30s 2s/step - loss: 1.2361 - acc: 0.5700 - val_loss: 1.6571 - val_acc: 0.4420\n",
      "Epoch 22/35\n",
      "20/20 [==============================] - 30s 2s/step - loss: 1.1997 - acc: 0.5950 - val_loss: 1.8170 - val_acc: 0.4060\n",
      "Epoch 23/35\n",
      "20/20 [==============================] - 29s 1s/step - loss: 1.1809 - acc: 0.5827 - val_loss: 1.6490 - val_acc: 0.4660\n",
      "Epoch 24/35\n",
      "20/20 [==============================] - 32s 2s/step - loss: 1.1913 - acc: 0.5750 - val_loss: 1.7058 - val_acc: 0.4040\n",
      "Epoch 25/35\n",
      "20/20 [==============================] - 31s 2s/step - loss: 1.1076 - acc: 0.5950 - val_loss: 1.6347 - val_acc: 0.4380\n",
      "Epoch 26/35\n",
      "20/20 [==============================] - 31s 2s/step - loss: 0.9973 - acc: 0.6700 - val_loss: 1.9251 - val_acc: 0.4140\n",
      "Epoch 27/35\n",
      "20/20 [==============================] - 34s 2s/step - loss: 1.0564 - acc: 0.6100 - val_loss: 1.7425 - val_acc: 0.4510\n",
      "Epoch 28/35\n",
      "20/20 [==============================] - 31s 2s/step - loss: 0.9443 - acc: 0.6525 - val_loss: 1.8604 - val_acc: 0.4400\n",
      "Epoch 29/35\n",
      "20/20 [==============================] - 30s 2s/step - loss: 0.9999 - acc: 0.6400 - val_loss: 2.1081 - val_acc: 0.4460\n",
      "Epoch 30/35\n",
      "20/20 [==============================] - 34s 2s/step - loss: 0.8706 - acc: 0.6825 - val_loss: 1.8130 - val_acc: 0.4340\n",
      "Epoch 31/35\n",
      "20/20 [==============================] - 34s 2s/step - loss: 0.9018 - acc: 0.6700 - val_loss: 2.1482 - val_acc: 0.4280\n",
      "Epoch 32/35\n",
      "20/20 [==============================] - 32s 2s/step - loss: 0.9287 - acc: 0.7000 - val_loss: 1.7569 - val_acc: 0.4440\n",
      "Epoch 33/35\n",
      "20/20 [==============================] - 29s 1s/step - loss: 0.8450 - acc: 0.6798 - val_loss: 1.8760 - val_acc: 0.4750\n",
      "Epoch 34/35\n",
      "20/20 [==============================] - 30s 2s/step - loss: 0.8215 - acc: 0.7250 - val_loss: 1.7520 - val_acc: 0.4410\n",
      "Epoch 35/35\n",
      "20/20 [==============================] - 34s 2s/step - loss: 0.8185 - acc: 0.7350 - val_loss: 1.7726 - val_acc: 0.4550\n"
     ]
    }
   ],
   "source": [
    "history = model.fit_generator(\n",
    "    train_generator,\n",
    "    steps_per_epoch=20,\n",
    "    epochs=35,\n",
    "    validation_data=validation_generator,\n",
    "    validation_steps=50\n",
    ")\n"
   ]
  },
  {
   "cell_type": "code",
   "execution_count": 12,
   "metadata": {},
   "outputs": [
    {
     "name": "stderr",
     "output_type": "stream",
     "text": [
      "c:\\Users\\Talha Fareedi\\AppData\\Local\\Programs\\Python\\Python310\\lib\\site-packages\\keras\\src\\engine\\training.py:3079: UserWarning: You are saving your model as an HDF5 file via `model.save()`. This file format is considered legacy. We recommend using instead the native Keras format, e.g. `model.save('my_model.keras')`.\n",
      "  saving_api.save_model(\n"
     ]
    }
   ],
   "source": [
    "model.save('path.h5')\n"
   ]
  },
  {
   "cell_type": "code",
   "execution_count": 22,
   "metadata": {},
   "outputs": [],
   "source": [
    "from keras.preprocessing import image\n",
    "import numpy as np\n",
    "\n",
    "img_path = 'img_211.jpeg' \n",
    "img = image.load_img(img_path, target_size=(150, 150))\n",
    "img_array = image.img_to_array(img)\n",
    "img_array = np.expand_dims(img_array, axis=0)\n",
    "img_array /= 255.0"
   ]
  },
  {
   "cell_type": "code",
   "execution_count": 23,
   "metadata": {},
   "outputs": [
    {
     "name": "stdout",
     "output_type": "stream",
     "text": [
      "1/1 [==============================] - 0s 59ms/step\n"
     ]
    }
   ],
   "source": [
    "predictions = model.predict(img_array)\n",
    "predicted_class_index = np.argmax(predictions)\n",
    "class_labels = train_generator.class_indices\n",
    "predicted_class_label = [k for k, v in class_labels.items() if v == predicted_class_index][0]\n",
    "\n"
   ]
  },
  {
   "cell_type": "code",
   "execution_count": 24,
   "metadata": {},
   "outputs": [
    {
     "name": "stdout",
     "output_type": "stream",
     "text": [
      "Predicted class: Banana\n"
     ]
    }
   ],
   "source": [
    "print('Predicted class:', predicted_class_label)"
   ]
  }
 ],
 "metadata": {
  "kernelspec": {
   "display_name": "Python 3",
   "language": "python",
   "name": "python3"
  },
  "language_info": {
   "codemirror_mode": {
    "name": "ipython",
    "version": 3
   },
   "file_extension": ".py",
   "mimetype": "text/x-python",
   "name": "python",
   "nbconvert_exporter": "python",
   "pygments_lexer": "ipython3",
   "version": "3.10.0"
  }
 },
 "nbformat": 4,
 "nbformat_minor": 2
}
